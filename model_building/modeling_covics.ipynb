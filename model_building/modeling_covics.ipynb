{
 "cells": [
  {
   "cell_type": "markdown",
   "metadata": {},
   "source": [
    "# Modeling COVID-19 Spread and Healthcare Capacity # "
   ]
  },
  {
   "cell_type": "markdown",
   "metadata": {},
   "source": [
    "Goal is to predict how many COVID-19 patients they will have to provide in-patient medical care for in the next 3 weeks. This will be achieved by modelling the infection rate. Regions that will not have enough resources to cope with their COVID-19 patients in any given week will be matched to a region that will have a surplus of medical resources that week, so that the burden can be shared and more patients can receive life-saving treatment."
   ]
  },
  {
   "cell_type": "code",
   "execution_count": 5,
   "metadata": {},
   "outputs": [],
   "source": [
    "import os\n",
    "import numpy as np\n",
    "import pandas as pd\n",
    "import matplotlib as mpl\n",
    "import matplotlib.pyplot as plt\n",
    "%matplotlib inline\n",
    "from scipy.optimize import curve_fit\n",
    "from operator import itemgetter\n",
    "import operator"
   ]
  },
  {
   "cell_type": "code",
   "execution_count": 8,
   "metadata": {},
   "outputs": [
    {
     "data": {
      "text/plain": [
       "['.ipynb_checkpoints', 'modeling_covics.ipynb']"
      ]
     },
     "execution_count": 8,
     "metadata": {},
     "output_type": "execute_result"
    }
   ],
   "source": [
    "os.listdir(\"./\")"
   ]
  },
  {
   "cell_type": "code",
   "execution_count": 6,
   "metadata": {},
   "outputs": [
    {
     "ename": "FileNotFoundError",
     "evalue": "[Errno 2] No such file or directory: 'path'",
     "output_type": "error",
     "traceback": [
      "\u001b[0;31m---------------------------------------------------------------------------\u001b[0m",
      "\u001b[0;31mFileNotFoundError\u001b[0m                         Traceback (most recent call last)",
      "\u001b[0;32m<ipython-input-6-279c3df654b9>\u001b[0m in \u001b[0;36m<module>\u001b[0;34m\u001b[0m\n\u001b[1;32m      1\u001b[0m \u001b[0;31m# Load datasets\u001b[0m\u001b[0;34m\u001b[0m\u001b[0;34m\u001b[0m\u001b[0;34m\u001b[0m\u001b[0m\n\u001b[0;32m----> 2\u001b[0;31m \u001b[0mos\u001b[0m\u001b[0;34m.\u001b[0m\u001b[0mlistdir\u001b[0m\u001b[0;34m(\u001b[0m\u001b[0;34m\"path\"\u001b[0m\u001b[0;34m)\u001b[0m\u001b[0;34m\u001b[0m\u001b[0;34m\u001b[0m\u001b[0m\n\u001b[0m\u001b[1;32m      3\u001b[0m \u001b[0mcovid_confirmed\u001b[0m \u001b[0;34m=\u001b[0m \u001b[0mpd\u001b[0m\u001b[0;34m.\u001b[0m\u001b[0mread_csv\u001b[0m\u001b[0;34m(\u001b[0m\u001b[0;34m'./COVID-19/csse_covid_19_data/csse_covid_19_time_series/time_series_covid19_confirmed_global.csv'\u001b[0m\u001b[0;34m)\u001b[0m\u001b[0;34m\u001b[0m\u001b[0;34m\u001b[0m\u001b[0m\n\u001b[1;32m      4\u001b[0m \u001b[0mcovid_deaths\u001b[0m \u001b[0;34m=\u001b[0m \u001b[0mpd\u001b[0m\u001b[0;34m.\u001b[0m\u001b[0mread_csv\u001b[0m\u001b[0;34m(\u001b[0m\u001b[0;34m'./COVID-19/csse_covid_19_data/csse_covid_19_time_series/time_series_covid19_deaths_global.csv'\u001b[0m\u001b[0;34m)\u001b[0m\u001b[0;34m\u001b[0m\u001b[0;34m\u001b[0m\u001b[0m\n\u001b[1;32m      5\u001b[0m \u001b[0mcovid_recovered\u001b[0m \u001b[0;34m=\u001b[0m \u001b[0mpd\u001b[0m\u001b[0;34m.\u001b[0m\u001b[0mread_csv\u001b[0m\u001b[0;34m(\u001b[0m\u001b[0;34m'./COVID-19/csse_covid_19_data/csse_covid_19_time_series/time_series_covid19_recovered_global.csv'\u001b[0m\u001b[0;34m)\u001b[0m\u001b[0;34m\u001b[0m\u001b[0;34m\u001b[0m\u001b[0m\n",
      "\u001b[0;31mFileNotFoundError\u001b[0m: [Errno 2] No such file or directory: 'path'"
     ]
    }
   ],
   "source": [
    "# Load datasets\n",
    "\n",
    "covid_confirmed = pd.read_csv('./COVID-19/csse_covid_19_data/csse_covid_19_time_series/time_series_covid19_confirmed_global.csv')\n",
    "covid_deaths = pd.read_csv('./COVID-19/csse_covid_19_data/csse_covid_19_time_series/time_series_covid19_deaths_global.csv')\n",
    "covid_recovered = pd.read_csv('./COVID-19/csse_covid_19_data/csse_covid_19_time_series/time_series_covid19_recovered_global.csv')"
   ]
  },
  {
   "cell_type": "code",
   "execution_count": null,
   "metadata": {},
   "outputs": [],
   "source": [
    "# Load the start of these datasets\n",
    "#covid_confirmed.head()\n",
    "#covid_deaths.head()\n",
    "#covid_recovered.head()"
   ]
  },
  {
   "cell_type": "code",
   "execution_count": null,
   "metadata": {},
   "outputs": [],
   "source": [
    "# Extract all column names\n",
    "cols_keys = covid_confirmed.keys()\n",
    "# Make sure all datasets have the same columns\n",
    "# Test this code with covid_confirmed = covid_confirmed.drop(['Lat'], axis=1)\n",
    "lists = [covid_confirmed.keys(), covid_deaths.keys(), covid_recovered.keys()]\n",
    "it = iter(lists)\n",
    "the_len = len(cols_keys)\n",
    "if not all(len(l) == the_len for l in it):\n",
    "    raise ValueError('not all lists have same length!')\n",
    "\n",
    "print(f'Total number of days in database: {len(cols_keys)}')"
   ]
  },
  {
   "cell_type": "code",
   "execution_count": null,
   "metadata": {},
   "outputs": [],
   "source": [
    "# Collect the counts for each date\n",
    "confirmed = covid_confirmed.loc[:, cols_keys[4]:cols_keys[-1]]\n",
    "deaths = covid_deaths.loc[:, cols_keys[4]:cols_keys[-1]]\n",
    "recovered = covid_recovered.loc[:, cols_keys[4]:cols_keys[-1]]\n",
    "dates = confirmed.keys()"
   ]
  },
  {
   "cell_type": "code",
   "execution_count": null,
   "metadata": {},
   "outputs": [],
   "source": [
    "# Calculate totals, rates, and cumulative counts in the world\n",
    "total_confirmed_global = []\n",
    "total_deaths_global = []\n",
    "total_recovered_global = []\n",
    "mortality_rate_global = []\n",
    "for d in dates:\n",
    "    tmp_conf = confirmed[d].sum()\n",
    "    tmp_deat = deaths[d].sum()\n",
    "    tmp_reco = recovered[d].sum()\n",
    "    total_confirmed_global.append(tmp_conf)\n",
    "    total_deaths_global.append(tmp_deat)\n",
    "    total_recovered_global.append(tmp_reco)\n",
    "    mortality_rate_global.append(tmp_deat/tmp_conf)\n"
   ]
  },
  {
   "cell_type": "code",
   "execution_count": null,
   "metadata": {},
   "outputs": [],
   "source": [
    "# convert to numpy arrays\n",
    "days = np.array([i for i in range(len(dates))]).reshape(-1,1)\n",
    "total_confirmed_global = np.array(total_confirmed_global).reshape(-1,1)\n",
    "total_deaths_global = np.array(total_deaths_global).reshape(-1,1)\n",
    "total_recovered_global = np.array(total_recovered_global).reshape(-1,1)"
   ]
  },
  {
   "cell_type": "code",
   "execution_count": null,
   "metadata": {},
   "outputs": [],
   "source": [
    "# Exponential growth\n",
    "def func(x, a, b):\n",
    "    return a * np.exp(b * x) \n",
    "# Fit - but not working\n",
    "#days2 = np.array([i for i in range(len(dates))]).reshape(1,-1)\n",
    "#popt, pcov = curve_fit(func, days.ravel(),  total_confirmed.ravel())\n",
    "#plt.plot(days, total_confirmed, 'b-', days, func(days, *popt), 'g--')\n",
    "popt = [total_confirmed_global[0],0.1075]"
   ]
  },
  {
   "cell_type": "code",
   "execution_count": null,
   "metadata": {},
   "outputs": [],
   "source": [
    "fig, ax = plt.subplots()\n",
    "ax.plot(days, total_confirmed_global, 'r--', label='Confirmed')\n",
    "ax.plot(days, total_deaths_global   , 'b--' , label='Deaths')\n",
    "ax.plot(days, total_recovered_global, 'g--' , label='Recovered')\n",
    "ax.plot(days, func(days, *popt), 'b^' , label='Exponential with growth factor = %.2f' % 10**popt[1])\n",
    "plt.legend()\n",
    "plt.xlabel('Days since %s' % dates[0])\n",
    "plt.ylabel('Total Global COVID-19 Cases')\n",
    "plt.show()"
   ]
  },
  {
   "cell_type": "code",
   "execution_count": null,
   "metadata": {},
   "outputs": [],
   "source": [
    "# Future forcasting for the next 3 weeks\n",
    "# dates: actual dates\n",
    "days_in_future = 21\n",
    "future_forecast = np.array([i for i in range(len(dates)+days_in_future)]).reshape(-1,1) # days count including future forecasting\n",
    "adjusted_dates = future_forecast[:-days_in_future] # days count up to now\n"
   ]
  },
  {
   "cell_type": "code",
   "execution_count": null,
   "metadata": {},
   "outputs": [],
   "source": [
    "# Convert all integers into datetime \n",
    "import datetime\n",
    "start = '1/22/2020'\n",
    "start_date = datetime.datetime.strptime(start,'%m/%d/%Y')\n",
    "future_forecast_dates = []\n",
    "for i in range(len(future_forecast)):\n",
    "    future_forecast_dates.append((start_date + datetime.timedelta(days=i)).strftime('%m/%d/%Y'))"
   ]
  },
  {
   "cell_type": "code",
   "execution_count": null,
   "metadata": {},
   "outputs": [],
   "source": [
    "# Latest data\n",
    "latest_confirmed = covid_confirmed[dates[-1]]\n",
    "latest_deaths = covid_deaths[dates[-1]]\n",
    "latest_recovered = covid_recovered[dates[-1]]"
   ]
  },
  {
   "cell_type": "code",
   "execution_count": null,
   "metadata": {},
   "outputs": [],
   "source": [
    "# List of unique countries\n",
    "unique_countries = list(covid_recovered['Country/Region'].unique())"
   ]
  },
  {
   "cell_type": "code",
   "execution_count": null,
   "metadata": {},
   "outputs": [],
   "source": [
    "# Total number of cases by each country\n",
    "total_confirmed_by_country = []\n",
    "total_deaths_by_country = []\n",
    "total_recovered_by_country = []\n",
    "mortality_rate_by_country = []\n",
    "no_cases = []\n",
    "\n",
    "for i in unique_countries:\n",
    "    cases_confirmed = latest_confirmed[covid_confirmed['Country/Region']==i].sum()\n",
    "    cases_deaths = latest_deaths[covid_confirmed['Country/Region']==i].sum()\n",
    "    cases_recovered = latest_recovered[covid_confirmed['Country/Region']==i].sum()\n",
    "    #print(i, len(latest_confirmed[covid_confirmed['Country/Region']==i]))\n",
    "    if cases_confirmed > 0:\n",
    "        total_confirmed_by_country.append(cases_confirmed)\n",
    "    else:\n",
    "        no_cases.append(i)\n",
    "    if cases_deaths > 0:\n",
    "        total_deaths_by_country.append(cases_deaths)\n",
    "    if cases_recovered > 0:\n",
    "        total_recovered_by_country.append(cases_recovered)\n",
    "\n",
    "for i in no_cases:\n",
    "    unique_countries.remove(i)\n",
    "# Sort based on the number of cases\n",
    "unique_countries = [k for k,v in sorted(zip(unique_countries, total_confirmed_by_country), key=operator.itemgetter(1), reverse=True) ]\n",
    "for i in range(len(unique_countries)):\n",
    "    total_confirmed_by_country[i] = latest_confirmed[covid_confirmed['Country/Region']==unique_countries[i]].sum()"
   ]
  },
  {
   "cell_type": "code",
   "execution_count": null,
   "metadata": {},
   "outputs": [],
   "source": [
    "# Print number of cases per country/area\n",
    "print('Confirmed cases by Countries/Regions')\n",
    "for i in range(len(unique_countries[:10])):\n",
    "    print(f'{unique_countries[i]}: {total_confirmed_by_country[i]} cases' )"
   ]
  },
  {
   "cell_type": "code",
   "execution_count": null,
   "metadata": {},
   "outputs": [],
   "source": [
    "# List of unique province/state\n",
    "unique_provinces = list(covid_recovered['Province/State'].unique())"
   ]
  },
  {
   "cell_type": "code",
   "execution_count": null,
   "metadata": {},
   "outputs": [],
   "source": []
  }
 ],
 "metadata": {
  "kernelspec": {
   "display_name": "Python 3",
   "language": "python",
   "name": "python3"
  },
  "language_info": {
   "codemirror_mode": {
    "name": "ipython",
    "version": 3
   },
   "file_extension": ".py",
   "mimetype": "text/x-python",
   "name": "python",
   "nbconvert_exporter": "python",
   "pygments_lexer": "ipython3",
   "version": "3.7.3"
  }
 },
 "nbformat": 4,
 "nbformat_minor": 4
}
